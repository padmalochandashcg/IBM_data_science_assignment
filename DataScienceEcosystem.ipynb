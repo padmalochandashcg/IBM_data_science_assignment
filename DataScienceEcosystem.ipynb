{
 "cells": [
  {
   "cell_type": "markdown",
   "id": "2cfd6098",
   "metadata": {},
   "source": [
    "### Data Science Tools and Ecosystem"
   ]
  },
  {
   "cell_type": "markdown",
   "id": "5e1dc614",
   "metadata": {},
   "source": [
    "In this notebook, Data Science Tools and Ecosystem are summarized."
   ]
  },
  {
   "cell_type": "markdown",
   "id": "ba268ae0",
   "metadata": {},
   "source": [
    "##### Some of the popular languages that Data Scientists use are:\n",
    "    1. Python\n",
    "    2. R\n",
    "    3. Sql"
   ]
  },
  {
   "cell_type": "markdown",
   "id": "20a2c436",
   "metadata": {},
   "source": [
    "##### Some of the commonly used libraries used by Data Scientists include:\n",
    "    \n",
    "    1. Pandas\n",
    "    2. Numpy\n",
    "    3. Matplotlib"
   ]
  },
  {
   "cell_type": "markdown",
   "id": "a74fcc98",
   "metadata": {},
   "source": [
    "| Data Science Tools  |\n",
    "|---------------------|\n",
    "| Jupyter Notebook    |\n",
    "| RStudio             |\n",
    "| Visual Studio Code  |"
   ]
  },
  {
   "cell_type": "markdown",
   "id": "d7a184d7",
   "metadata": {},
   "source": [
    "### Below are a few examples of evaluating arithmetic expressions in Python\n",
    "        1. X+Y  #Addtion operator\n",
    "        2. X-Y  #Substraction operator\n",
    "        3. X*Y  #Multiplication operator\n",
    "        4. X/Y  #Division operator\n",
    "        5. X%Y  #Remainder operator\n",
    "        6. X**Y #square operator"
   ]
  },
  {
   "cell_type": "code",
   "execution_count": 2,
   "id": "c9246e46",
   "metadata": {},
   "outputs": [
    {
     "name": "stdout",
     "output_type": "stream",
     "text": [
      "17\n"
     ]
    }
   ],
   "source": [
    "#This a simple arithmetic expression to mutiply then add integers.\n",
    "x = 3\n",
    "y = 4\n",
    "z = 5\n",
    "result = (x*y)+z\n",
    "print(result)"
   ]
  },
  {
   "cell_type": "code",
   "execution_count": 10,
   "id": "5617687e",
   "metadata": {},
   "outputs": [
    {
     "name": "stdout",
     "output_type": "stream",
     "text": [
      "Enter minutes to convert: 65\n",
      "65 Minutes should be 1 hour 5 minute\n"
     ]
    }
   ],
   "source": [
    "#This will convert 200 minutes to hours by diving by 60.\n",
    "Input_Minutes = int(input(\"Enter minutes to convert: \" ))\n",
    "Output_hours = Input_Minutes//60 \n",
    "output_Minutes = Input_Minutes%60\n",
    "Output_time = f\"{Input_Minutes} Minutes should be {Output_hours} hour {output_Minutes} minute\"\n",
    "print(Output_time)"
   ]
  },
  {
   "cell_type": "markdown",
   "id": "a424cd61",
   "metadata": {},
   "source": [
    "#### Objectives:\n",
    "    > Popular languages for Data Science\n",
    "        . PYTHON\n",
    "        . R\n",
    "        . SQL\n",
    "    > Commonly used libraries used by Data Scientists\n",
    "        . PANDAS\n",
    "        . NUMPY\n",
    "        . MATPLOTLIB\n",
    "    > Creating tables using markdown cell\n",
    "    > Arithmetic operator\n",
    "    > learning use of comments,markdown cell,header"
   ]
  },
  {
   "cell_type": "markdown",
   "id": "2a1483e9",
   "metadata": {},
   "source": [
    "## Author\n",
    "Padmalochan Dash"
   ]
  },
  {
   "cell_type": "code",
   "execution_count": null,
   "id": "6f8b75b4",
   "metadata": {},
   "outputs": [],
   "source": []
  }
 ],
 "metadata": {
  "kernelspec": {
   "display_name": "Python 3 (ipykernel)",
   "language": "python",
   "name": "python3"
  },
  "language_info": {
   "codemirror_mode": {
    "name": "ipython",
    "version": 3
   },
   "file_extension": ".py",
   "mimetype": "text/x-python",
   "name": "python",
   "nbconvert_exporter": "python",
   "pygments_lexer": "ipython3",
   "version": "3.10.3"
  }
 },
 "nbformat": 4,
 "nbformat_minor": 5
}
